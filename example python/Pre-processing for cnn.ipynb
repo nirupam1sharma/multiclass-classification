{
  "cells": [
    {
      "metadata": {
        "_cell_guid": "a07f5103-d036-968f-40d7-57649bbb4864",
        "_uuid": "e98bf7b61580e6a51e0d427b46d7e074102a116f"
      },
      "cell_type": "markdown",
      "source": "## Introduction\n\nWorking with these files can be a challenge, especially given their heterogeneous nature. Some preprocessing is required before they are ready for consumption by your CNN.\n\nFortunately, I participated in the LUNA16 competition as part of a university course on computer aided diagnosis, so I have some experience working with these files. At this moment we top the leaderboard there :)\n\n**This tutorial aims to provide a comprehensive overview of useful steps to take before the data hits your ConvNet/other ML method.**\n\nWhat we will cover:  \n\n* **Loading the DICOM files**, and adding missing metadata  \n* **Converting the pixel values to *Hounsfield Units (HU)***, and what tissue these unit values correspond to\n* **Resampling** to an isomorphic resolution to remove variance in scanner resolution.\n* **3D plotting**, visualization is very useful to see what we are doing.\n* **Lung segmentation**\n* **Normalization** that makes sense.\n* **Zero centering** the scans.\n\n\n---\n\nBefore we start, let's import some packages and determine the available patients."
    },
    {
      "metadata": {
        "_cell_guid": "1d12eab6-3340-fa57-84a1-91fe13886996",
        "_uuid": "bb73e9ec4099a5d0f4034cb0c0856f2fb447a92d",
        "trusted": false
      },
      "cell_type": "code",
      "source": "%matplotlib inline\n\nimport numpy as np # linear algebra\nimport pandas as pd # data processing, CSV file I/O (e.g. pd.read_csv)\nimport dicom\nimport os\nimport scipy.ndimage\nimport matplotlib.pyplot as plt\n\nfrom skimage import measure, morphology\nfrom mpl_toolkits.mplot3d.art3d import Poly3DCollection\n\n# Some constants \nINPUT_FOLDER = '../input/sample_images/'\npatients = os.listdir(INPUT_FOLDER)\npatients.sort()",
      "execution_count": null,
      "outputs": []
    },
    {
      "metadata": {
        "_cell_guid": "56147dd5-3127-8844-644d-0b1565c9dac3",
        "_uuid": "6fac7e1f29e79052975cfee65c2357d36cda0309"
      },
      "cell_type": "markdown",
      "source": "# Loading the files\nDicom is the de-facto file standard in medical imaging. This is my first time working with it, but it seems to be fairly straight-forward.  These files contain a lot of metadata (such as the pixel size, so how long one pixel is in every dimension in the real world). \n\nThis pixel size/coarseness of the scan differs from scan to scan (e.g. the distance between slices may differ), which can hurt performance of CNN approaches. We can deal with this by isomorphic resampling, which we will do later.\n\nBelow is code to load a scan, which consists of multiple slices, which we simply save in a Python list. Every folder in the dataset is one scan (so one patient). One metadata field is missing, the pixel size in the Z direction, which is the slice thickness. Fortunately we can infer this, and we add this to the metadata."
    },
    {
      "metadata": {
        "_cell_guid": "4f50e5b1-c1e8-14a8-591b-eb466e5adc0d",
        "_uuid": "5fbcfda1e8574bca12fe354e8a60c545f51e64fc",
        "trusted": false
      },
      "cell_type": "code",
      "source": "# Load the scans in given folder path\ndef load_scan(path):\n    slices = [dicom.read_file(path + '/' + s) for s in os.listdir(path)]\n    slices.sort(key = lambda x: float(x.ImagePositionPatient[2]))\n    try:\n        slice_thickness = np.abs(slices[0].ImagePositionPatient[2] - slices[1].ImagePositionPatient[2])\n    except:\n        slice_thickness = np.abs(slices[0].SliceLocation - slices[1].SliceLocation)\n        \n    for s in slices:\n        s.SliceThickness = slice_thickness\n        \n    return slices",
      "execution_count": null,
      "outputs": []
    },
    {
      "metadata": {
        "_cell_guid": "79a91d86-1009-ac6d-14d4-a1c117f3dd64",
        "_uuid": "40ba2cc904bc8387f3993f0f3bce85c465e830b7"
      },
      "cell_type": "markdown",
      "source": "The unit of measurement in CT scans is the **Hounsfield Unit (HU)**, which is a measure of radiodensity. CT scanners are carefully calibrated to accurately measure this.  From Wikipedia:\n\n![HU examples][1]\n\nBy default however, the returned values are not in this unit. Let's fix this.\n\nSome scanners have cylindrical scanning bounds, but the output image is square. The pixels that fall outside of these bounds get the fixed value -2000. The first step is setting these values to 0, which currently corresponds to air. Next, let's go back to HU units, by multiplying with the rescale slope and adding the intercept (which are conveniently stored in the metadata of the scans!).\n\n  [1]: http://i.imgur.com/4rlyReh.png"
    },
    {
      "metadata": {
        "_cell_guid": "e60f402c-0cd9-f0d2-0c3d-3e7af98f9845",
        "_uuid": "5eb5b088a82f1cbf5a1e4843c7651279af50959b",
        "trusted": false
      },
      "cell_type": "code",
      "source": "def get_pixels_hu(slices):\n    image = np.stack([s.pixel_array for s in slices])\n    # Convert to int16 (from sometimes int16), \n    # should be possible as values should always be low enough (<32k)\n    image = image.astype(np.int16)\n\n    # Set outside-of-scan pixels to 0\n    # The intercept is usually -1024, so air is approximately 0\n    image[image == -2000] = 0\n    \n    # Convert to Hounsfield units (HU)\n    for slice_number in range(len(slices)):\n        \n        intercept = slices[slice_number].RescaleIntercept\n        slope = slices[slice_number].RescaleSlope\n        \n        if slope != 1:\n            image[slice_number] = slope * image[slice_number].astype(np.float64)\n            image[slice_number] = image[slice_number].astype(np.int16)\n            \n        image[slice_number] += np.int16(intercept)\n    \n    return np.array(image, dtype=np.int16)",
      "execution_count": null,
      "outputs": []
    },
    {
      "metadata": {
        "_cell_guid": "9a64cb22-2b5d-425c-7ced-0e977ca04fa7",
        "_uuid": "3fac504dd5c6dc390cbc5f51fd6a6635bb996287"
      },
      "cell_type": "markdown",
      "source": "Let's take a look at one of the patients."
    },
    {
      "metadata": {
        "_cell_guid": "b0012bd3-50f6-278b-de58-a2a39361f1bb",
        "_uuid": "1cc7b0697ceef024dd3408d6532988c08826146e",
        "trusted": false
      },
      "cell_type": "code",
      "source": "first_patient = load_scan(INPUT_FOLDER + patients[0])\nfirst_patient_pixels = get_pixels_hu(first_patient)\nplt.hist(first_patient_pixels.flatten(), bins=80, color='c')\nplt.xlabel(\"Hounsfield Units (HU)\")\nplt.ylabel(\"Frequency\")\nplt.show()\n\n# Show some slice in the middle\nplt.imshow(first_patient_pixels[80], cmap=plt.cm.gray)\nplt.show()",
      "execution_count": null,
      "outputs": []
    },
    {
      "metadata": {
        "_cell_guid": "894982a5-844c-ebb2-a48c-62a057cf5ec9",
        "_uuid": "50b209434c2cccbd178c7bd8daed744881d24368"
      },
      "cell_type": "markdown",
      "source": "Looking at the table from Wikipedia and this histogram, we can clearly see which pixels are air and which are tissue. We will use this for lung segmentation in a bit :)\n\n\n----------"
    },
    {
      "metadata": {
        "_cell_guid": "ae70ecba-82a6-099b-ac6a-c2f69c055929",
        "_uuid": "560187972499239ebfb9dc41ad72c8e7818cd5c2"
      },
      "cell_type": "markdown",
      "source": "# Resampling\nA scan may have a pixel spacing of `[2.5, 0.5, 0.5]`, which means that the distance between slices is `2.5` millimeters. For a different scan this may be `[1.5, 0.725, 0.725]`, this can be problematic for automatic analysis (e.g. using ConvNets)! \n\nA common method of dealing with this is resampling the full dataset to a certain isotropic resolution. If we choose to resample everything to 1mm*1mm*1mm pixels we can use 3D convnets without worrying about learning zoom/slice thickness invariance. \n\nWhilst this may seem like a very simple step, it has quite some edge cases due to rounding. Also, it takes quite a while.\n\nBelow code worked well for us (and deals with the edge cases):"
    },
    {
      "metadata": {
        "_cell_guid": "59c11a48-c6d0-8522-f5cd-b03d8ee812f6",
        "_uuid": "0876593c8839ea816e67d115630cd34f7bfa0e62",
        "trusted": false
      },
      "cell_type": "code",
      "source": "def resample(image, scan, new_spacing=[1,1,1]):\n    # Determine current pixel spacing\n    spacing = np.array([scan[0].SliceThickness] + scan[0].PixelSpacing, dtype=np.float32)\n\n    resize_factor = spacing / new_spacing\n    new_real_shape = image.shape * resize_factor\n    new_shape = np.round(new_real_shape)\n    real_resize_factor = new_shape / image.shape\n    new_spacing = spacing / real_resize_factor\n    \n    image = scipy.ndimage.interpolation.zoom(image, real_resize_factor, mode='nearest')\n    \n    return image, new_spacing",
      "execution_count": null,
      "outputs": []
    },
    {
      "metadata": {
        "_cell_guid": "04b36366-5dd1-90b1-ad19-065127fe4720",
        "_uuid": "d0e41bb1b3089b3273b8f0d441fecbc31168854c"
      },
      "cell_type": "markdown",
      "source": "Please note that when you apply this, to save the new spacing! Due to rounding this may be slightly off from the desired spacing (above script picks the best possible spacing with rounding).\n\nLet's resample our patient's pixels to an isomorphic resolution of 1 by 1 by 1 mm."
    },
    {
      "metadata": {
        "_cell_guid": "53acb2e7-1edc-8212-3b6d-30eb16d75025",
        "_uuid": "36a458630f15764eae88428267ecdaa705694dcb",
        "trusted": false
      },
      "cell_type": "code",
      "source": "pix_resampled, spacing = resample(first_patient_pixels, first_patient, [1,1,1])\nprint(\"Shape before resampling\\t\", first_patient_pixels.shape)\nprint(\"Shape after resampling\\t\", pix_resampled.shape)",
      "execution_count": null,
      "outputs": []
    },
    {
      "metadata": {
        "_cell_guid": "405beab9-b95f-9ea6-6f51-235943c1d5dc",
        "_uuid": "42c463e6cb20c07845c8c3819901223acf1b95f2"
      },
      "cell_type": "markdown",
      "source": "# 3D plotting the scan\nFor visualization it is useful to be able to show a 3D image of the scan. Unfortunately, the packages available in this Kaggle docker image is very limited in this sense, so we will use marching cubes to create an approximate mesh for our 3D object, and plot this with matplotlib. Quite slow and ugly, but the best we can do."
    },
    {
      "metadata": {
        "_cell_guid": "05a89e78-9a12-c019-8693-efb4030172bd",
        "_uuid": "efdddb68e58b1904cf815662dec2a8efc197e21b",
        "trusted": false
      },
      "cell_type": "code",
      "source": "def plot_3d(image, threshold=-300):\n    \n    # Position the scan upright, \n    # so the head of the patient would be at the top facing the camera\n    p = image.transpose(2,1,0)\n    \n    verts, faces = measure.marching_cubes(p, threshold)\n\n    fig = plt.figure(figsize=(10, 10))\n    ax = fig.add_subplot(111, projection='3d')\n\n    # Fancy indexing: `verts[faces]` to generate a collection of triangles\n    mesh = Poly3DCollection(verts[faces], alpha=0.70)\n    face_color = [0.45, 0.45, 0.75]\n    mesh.set_facecolor(face_color)\n    ax.add_collection3d(mesh)\n\n    ax.set_xlim(0, p.shape[0])\n    ax.set_ylim(0, p.shape[1])\n    ax.set_zlim(0, p.shape[2])\n\n    plt.show()",
      "execution_count": null,
      "outputs": []
    },
    {
      "metadata": {
        "_cell_guid": "60f79f87-44cc-620e-259c-d18d2e085bd6",
        "_uuid": "7c183d738a4cadf656bb04f1e6172fd671b5ec46"
      },
      "cell_type": "markdown",
      "source": "Our plot function takes a threshold argument which we can use to plot certain structures, such as all tissue or only the bones. 400 is a good threshold for showing the bones only (see Hounsfield unit table above). Let's do this!"
    },
    {
      "metadata": {
        "_cell_guid": "8373d7cb-c307-b8a3-c9a4-6d3daec2cee5",
        "_uuid": "6498aa7f7a0d87283c01b98029759f17a9b25aad",
        "trusted": false
      },
      "cell_type": "code",
      "source": "plot_3d(pix_resampled, 400)",
      "execution_count": null,
      "outputs": []
    },
    {
      "metadata": {
        "_cell_guid": "375b567c-90eb-dee2-6fc6-e6463833640e",
        "_uuid": "cfeaeefd284a665a4f6ba83d2458ed65198d3eda"
      },
      "cell_type": "markdown",
      "source": "Spooky!\n\n# Lung segmentation\nIn order to reduce the problem space, we can segment the lungs (and usually some tissue around it). The method that me and my student colleagues developed was quite effective. \n\nIt involves quite a few smart steps. It consists of a series of applications of region growing and morphological operations. In this case, we will use only connected component analysis.\n\nThe steps:  \n\n* Threshold the image (-320 HU is a good threshold, but it doesn't matter much for this approach)\n* Do connected components, determine label of air around person, fill this with 1s in the binary image\n* Optionally: For every axial slice in the scan, determine the largest solid connected component (the body+air around the person), and set others to 0. This fills the structures in the lungs in the mask.\n* Keep only the largest air pocket (the human body has other pockets of air here and there)."
    },
    {
      "metadata": {
        "_cell_guid": "436e766a-6f93-862a-4f8c-4b384cdd9e82",
        "_uuid": "0ab68c909cb1af2fd338dce9655117b739892686",
        "trusted": false
      },
      "cell_type": "code",
      "source": "def largest_label_volume(im, bg=-1):\n    vals, counts = np.unique(im, return_counts=True)\n\n    counts = counts[vals != bg]\n    vals = vals[vals != bg]\n\n    if len(counts) > 0:\n        return vals[np.argmax(counts)]\n    else:\n        return None\n\ndef segment_lung_mask(image, fill_lung_structures=True):\n    \n    # not actually binary, but 1 and 2. \n    # 0 is treated as background, which we do not want\n    binary_image = np.array(image > -320, dtype=np.int8)+1\n    labels = measure.label(binary_image)\n    \n    # Pick the pixel in the very corner to determine which label is air.\n    #   Improvement: Pick multiple background labels from around the patient\n    #   More resistant to \"trays\" on which the patient lays cutting the air \n    #   around the person in half\n    background_label = labels[0,0,0]\n    \n    #Fill the air around the person\n    binary_image[background_label == labels] = 2\n    \n    \n    # Method of filling the lung structures (that is superior to something like \n    # morphological closing)\n    if fill_lung_structures:\n        # For every slice we determine the largest solid structure\n        for i, axial_slice in enumerate(binary_image):\n            axial_slice = axial_slice - 1\n            labeling = measure.label(axial_slice)\n            l_max = largest_label_volume(labeling, bg=0)\n            \n            if l_max is not None: #This slice contains some lung\n                binary_image[i][labeling != l_max] = 1\n\n    \n    binary_image -= 1 #Make the image actual binary\n    binary_image = 1-binary_image # Invert it, lungs are now 1\n    \n    # Remove other air pockets insided body\n    labels = measure.label(binary_image, background=0)\n    l_max = largest_label_volume(labels, bg=0)\n    if l_max is not None: # There are air pockets\n        binary_image[labels != l_max] = 0\n \n    return binary_image",
      "execution_count": null,
      "outputs": []
    },
    {
      "metadata": {
        "_cell_guid": "0601c7e8-f67a-2178-225a-a23474d54cae",
        "_uuid": "1a9c5d78921af7e0462f1c4c7bddfbaa84860e72",
        "trusted": false
      },
      "cell_type": "code",
      "source": "segmented_lungs = segment_lung_mask(pix_resampled, False)\nsegmented_lungs_fill = segment_lung_mask(pix_resampled, True)",
      "execution_count": null,
      "outputs": []
    },
    {
      "metadata": {
        "_cell_guid": "0a632d49-cc04-15da-f743-addb07504055",
        "_uuid": "93e0266ab23cfa427621c4f10b085d0dcb0abfe9",
        "trusted": false
      },
      "cell_type": "code",
      "source": "plot_3d(segmented_lungs, 0)",
      "execution_count": null,
      "outputs": []
    },
    {
      "metadata": {
        "_cell_guid": "45a40c3f-919c-0ba0-fe87-f66b3817e1ab",
        "_uuid": "f6bf3111f04dd848930a3e04b1a9a682ee557795"
      },
      "cell_type": "markdown",
      "source": "Beautiful! \n\nBut there's one thing we can fix, it is probably a good idea to include structures within the lung (as the nodules are solid), we do not only want to air in the lungs. "
    },
    {
      "metadata": {
        "_cell_guid": "10d5d6fd-1994-d263-1ec3-be09d1f40c00",
        "_uuid": "21e6150367268faba58a159c9fe9f8c0f4f37182",
        "trusted": false
      },
      "cell_type": "code",
      "source": "plot_3d(segmented_lungs_fill, 0)",
      "execution_count": null,
      "outputs": []
    },
    {
      "metadata": {
        "_cell_guid": "96bdffec-ca48-b503-84ab-e119fbd68bfe",
        "_uuid": "17317a16636b0f75c256407411be8d558fc5992b"
      },
      "cell_type": "markdown",
      "source": "That's better. Let's also visualize the difference between the two."
    },
    {
      "metadata": {
        "_cell_guid": "764cb248-ee97-f98c-3860-7df87b13bc1b",
        "_uuid": "f4a145dd5f765317fd8e4fac2df20143fb30cbb0",
        "trusted": false
      },
      "cell_type": "code",
      "source": "plot_3d(segmented_lungs_fill - segmented_lungs, 0)",
      "execution_count": null,
      "outputs": []
    },
    {
      "metadata": {
        "_cell_guid": "756185c7-1833-66b8-572d-30d480533ad0",
        "_uuid": "7070c04ca322a552916e6fb25fcf691a139b6e22"
      },
      "cell_type": "markdown",
      "source": "Pretty cool, no? \n\nAnyway, when you want to use this mask, **remember to first apply a dilation morphological operation** on it (i.e. with a circular kernel).  This expands the mask in all directions. The air + structures in the lung alone will not contain all nodules, in particular it will miss those that are stuck to the side of the lung, where they often appear! So expand the mask a little :)\n\n**This segmentation may fail for some edge cases**. It relies on the fact that the air outside the patient is not connected to the air in the lungs. If the patient has a [tracheostomy](https://en.wikipedia.org/wiki/Tracheotomy), this will not be the case, I do not know whether this is present in the dataset. Also, particulary noisy images (for instance due to a pacemaker in the image below) this method may also fail. Instead, the second largest air pocket in the body will be segmented. You can recognize this by checking the fraction of image that the mask corresponds to, which will be very small for this case. You can then first apply a morphological closing operation with a kernel a few mm in size to close these holes, after which it should work (or more simply, do not use the mask for this image). \n\n![pacemaker example][1]\n\n# Normalization\nOur values currently range from -1024 to around 2000. Anything above 400 is not interesting to us, as these are simply bones with different radiodensity.  A commonly used set of thresholds in the LUNA16 competition to normalize between are -1000 and 400. Here's some code you can use:\n\n\n  [1]: http://i.imgur.com/po0eX1L.png"
    },
    {
      "metadata": {
        "_cell_guid": "b65e2226-a7a5-777d-5e4c-2e87e2f708a9",
        "_uuid": "315762522d9305bd644501f404a14476f41cf40f",
        "trusted": false
      },
      "cell_type": "code",
      "source": "MIN_BOUND = -1000.0\nMAX_BOUND = 400.0\n    \ndef normalize(image):\n    image = (image - MIN_BOUND) / (MAX_BOUND - MIN_BOUND)\n    image[image>1] = 1.\n    image[image<0] = 0.\n    return image",
      "execution_count": null,
      "outputs": []
    },
    {
      "metadata": {
        "_cell_guid": "f2f3eacf-3a41-a36d-ecb5-9354d926e6f4",
        "_uuid": "221c76c7fa3edfddd376d6cffca9068a5d3bd83a"
      },
      "cell_type": "markdown",
      "source": "# Zero centering\n\nAs a final preprocessing step, it is advisory to zero center your data so that your mean value is 0. To do this you simply subtract the mean pixel value from all pixels. \n\nTo determine this mean you simply average all images in the whole dataset.  If that sounds like a lot of work, we found this to be around 0.25 in the LUNA16 competition. \n\n**Warning: Do not zero center with the mean per image (like is done in some kernels on here). The CT scanners are calibrated to return accurate HU measurements. There is no such thing as an image with lower contrast or brightness like in normal pictures.**"
    },
    {
      "metadata": {
        "_cell_guid": "3570abfa-b13a-bd5b-06f3-9fd9a4329b1d",
        "_uuid": "c4db41e1a4e81993a93b329ec8cf92614dade9ac",
        "trusted": false
      },
      "cell_type": "code",
      "source": "PIXEL_MEAN = 0.25\n\ndef zero_center(image):\n    image = image - PIXEL_MEAN\n    return image",
      "execution_count": null,
      "outputs": []
    },
    {
      "metadata": {
        "_cell_guid": "17e813c3-6388-1956-47a2-24bb54376142",
        "_uuid": "9f4fcb4844f23576dcbec3d2e7b12c8ae0b313a2"
      },
      "cell_type": "markdown",
      "source": "# What's next? \n\nWith these steps your images are ready for consumption by your CNN or other ML method :). You can do all these steps offline (one time and save the result), and I would advise you to do so and let it run overnight as it may take a long time. \n\n**Tip:** To save storage space, don't do normalization and zero centering beforehand, but do this online (during training, just after loading). If you don't do this yet, your image are int16's, which are smaller than float32s and easier to compress as well.\n\n**If this tutorial helped you at all, please upvote it and leave a comment :)**"
    }
  ],
  "metadata": {
    "_change_revision": 0,
    "_is_fork": false,
    "kernelspec": {
      "display_name": "Python 3",
      "language": "python",
      "name": "python3"
    },
    "language_info": {
      "name": "python",
      "version": "3.6.6",
      "mimetype": "text/x-python",
      "codemirror_mode": {
        "name": "ipython",
        "version": 3
      },
      "pygments_lexer": "ipython3",
      "nbconvert_exporter": "python",
      "file_extension": ".py"
    }
  },
  "nbformat": 4,
  "nbformat_minor": 1
}